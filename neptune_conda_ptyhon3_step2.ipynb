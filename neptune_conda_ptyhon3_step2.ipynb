{
 "cells": [
  {
   "cell_type": "code",
   "execution_count": null,
   "id": "4e9b853f",
   "metadata": {},
   "outputs": [],
   "source": [
    "!pip install gremlinpython"
   ]
  },
  {
   "cell_type": "code",
   "execution_count": null,
   "id": "2110f1d9",
   "metadata": {},
   "outputs": [],
   "source": [
    "from gremlin_python import statics\n",
    "from gremlin_python.structure.graph import Graph\n",
    "from gremlin_python.process.graph_traversal import __\n",
    "from gremlin_python.process.strategies import *\n",
    "from gremlin_python.driver.driver_remote_connection import DriverRemoteConnection\n",
    "from gremlin_python.driver.aiohttp.transport import AiohttpTransport\n",
    "from gremlin_python.process.traversal import *\n",
    "from gremlin_python.process.traversal import Cardinality\n",
    "\n",
    "import os\n",
    "\n",
    "port = 8182\n",
    "server = 'graphdb-develop-neptune-cluster.cluster-causxyo47g34.ap-northeast-1.neptune.amazonaws.com'\n",
    "    \n",
    "endpoint = f'wss://{server}:{port}/gremlin'\n",
    "\n",
    "graph=Graph()\n",
    "\n",
    "connection = None\n",
    "\n",
    "try:\n",
    "    connection = DriverRemoteConnection(endpoint, 'g',\n",
    "                                        transport_factory=lambda: AiohttpTransport(call_from_event_loop=True))\n",
    "\n",
    "    g = graph.traversal().withRemote(connection)\n",
    "\n",
    "    g.V().drop().iterate()\n",
    "    g.addV('person').property(T.id, '10').property('name', 'satoshi').iterate()\n",
    "\n",
    "#     all_nodes = g.V().valueMap(True).toList()\n",
    "#     print(\"All Nodes:\", all_nodes)\n",
    "\n",
    "    node = g.V('10').valueMap(True).toList()\n",
    "    print(\"Node:\", node)\n",
    "    \n",
    "    g.V('10').property('address', 'japan').iterate()\n",
    "    node = g.V('10').valueMap(True).toList()\n",
    "    print(\"Node:\", node)\n",
    "\n",
    "    g.V('10').property('address', 'hiroshima').iterate()\n",
    "    node = g.V('10').valueMap(True).toList()\n",
    "    print(\"Node:\", node)\n",
    "\n",
    "    g.V('10').property(Cardinality.single, 'name', 'satoshi256kbyte').iterate()\n",
    "    node = g.V('10').valueMap(True).toList()\n",
    "    print(\"Node:\", node)\n",
    "    \n",
    "finally:\n",
    "    if connection is not None:\n",
    "        connection.close()"
   ]
  },
  {
   "cell_type": "code",
   "execution_count": null,
   "id": "4f2e8c4a",
   "metadata": {},
   "outputs": [],
   "source": []
  },
  {
   "cell_type": "code",
   "execution_count": null,
   "id": "bda2c947",
   "metadata": {},
   "outputs": [],
   "source": []
  }
 ],
 "metadata": {
  "kernelspec": {
   "display_name": "conda_python3",
   "language": "python",
   "name": "conda_python3"
  },
  "language_info": {
   "codemirror_mode": {
    "name": "ipython",
    "version": 3
   },
   "file_extension": ".py",
   "mimetype": "text/x-python",
   "name": "python",
   "nbconvert_exporter": "python",
   "pygments_lexer": "ipython3",
   "version": "3.10.14"
  }
 },
 "nbformat": 4,
 "nbformat_minor": 5
}
