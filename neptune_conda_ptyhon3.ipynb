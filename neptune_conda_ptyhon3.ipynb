{
 "cells": [
  {
   "cell_type": "code",
   "execution_count": null,
   "id": "4e9b853f",
   "metadata": {},
   "outputs": [],
   "source": [
    "!pip install gremlinpython"
   ]
  },
  {
   "cell_type": "code",
   "execution_count": null,
   "id": "2110f1d9",
   "metadata": {},
   "outputs": [],
   "source": [
    "from gremlin_python import statics\n",
    "from gremlin_python.structure.graph import Graph\n",
    "from gremlin_python.process.graph_traversal import __\n",
    "from gremlin_python.process.strategies import *\n",
    "from gremlin_python.driver.driver_remote_connection import DriverRemoteConnection\n",
    "from gremlin_python.driver.aiohttp.transport import AiohttpTransport\n",
    "from gremlin_python.process.traversal import *\n",
    "\n",
    "import os\n",
    "\n",
    "port = 8182\n",
    "server = '{Neptuneのエンドポイント}'\n",
    "    \n",
    "endpoint = f'wss://{server}:{port}/gremlin'\n",
    "print(endpoint)\n",
    "\n",
    "graph=Graph()\n",
    "\n",
    "connection = None\n",
    "\n",
    "try:\n",
    "    connection = DriverRemoteConnection(endpoint, 'g',\n",
    "                                        transport_factory=lambda: AiohttpTransport(call_from_event_loop=True))\n",
    "\n",
    "    g = graph.traversal().withRemote(connection)\n",
    "\n",
    "    results = (g.V().hasLabel('airport')\n",
    "                .sample(10)\n",
    "                .order()\n",
    "                .by('code')\n",
    "                .local(__.values('code', 'city').fold())\n",
    "                .toList())\n",
    "\n",
    "    # Print the results in a tabular form with a row index\n",
    "    for i, c in enumerate(results, 1):\n",
    "        print(\"%3d %4s %s\" % (i, c[0], c[1]))\n",
    "\n",
    "finally:\n",
    "    if connection is not None:\n",
    "        connection.close()"
   ]
  },
  {
   "cell_type": "code",
   "execution_count": null,
   "id": "4f2e8c4a",
   "metadata": {},
   "outputs": [],
   "source": []
  },
  {
   "cell_type": "code",
   "execution_count": null,
   "id": "bda2c947",
   "metadata": {},
   "outputs": [],
   "source": []
  }
 ],
 "metadata": {
  "kernelspec": {
   "display_name": "conda_python3",
   "language": "python",
   "name": "conda_python3"
  },
  "language_info": {
   "codemirror_mode": {
    "name": "ipython",
    "version": 3
   },
   "file_extension": ".py",
   "mimetype": "text/x-python",
   "name": "python",
   "nbconvert_exporter": "python",
   "pygments_lexer": "ipython3",
   "version": "3.10.14"
  }
 },
 "nbformat": 4,
 "nbformat_minor": 5
}
